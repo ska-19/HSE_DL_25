{
 "cells": [
  {
   "cell_type": "markdown",
   "id": "4573c99f",
   "metadata": {},
   "source": [
    "# Обучение и визуализация модели трансформера для генерации стихов"
   ]
  },
  {
   "cell_type": "code",
   "execution_count": 106,
   "id": "db428779",
   "metadata": {},
   "outputs": [
    {
     "name": "stdout",
     "output_type": "stream",
     "text": [
      "Python 3.13.3\n"
     ]
    },
    {
     "name": "stderr",
     "output_type": "stream",
     "text": [
      "huggingface/tokenizers: The current process just got forked, after parallelism has already been used. Disabling parallelism to avoid deadlocks...\n",
      "To disable this warning, you can either:\n",
      "\t- Avoid using `tokenizers` before the fork if possible\n",
      "\t- Explicitly set the environment variable TOKENIZERS_PARALLELISM=(true | false)\n"
     ]
    },
    {
     "data": {
      "text/plain": [
       "<torch._C.Generator at 0x105ec3230>"
      ]
     },
     "execution_count": 106,
     "metadata": {},
     "output_type": "execute_result"
    }
   ],
   "source": [
    "!python -V\n",
    "\n",
    "import torch\n",
    "import torch.nn as nn\n",
    "import torch.nn.functional as F\n",
    "import matplotlib.pyplot as plt\n",
    "import seaborn as sns\n",
    "import numpy as np\n",
    "import random\n",
    "from torch.utils.data import Dataset, DataLoader\n",
    "from transformers import AutoTokenizer\n",
    "from datasets import load_dataset\n",
    "import os\n",
    "\n",
    "import warnings\n",
    "warnings.filterwarnings('ignore')\n",
    "\n",
    "random.seed(42)\n",
    "torch.manual_seed(42)"
   ]
  },
  {
   "cell_type": "code",
   "execution_count": 107,
   "id": "c7634235",
   "metadata": {},
   "outputs": [
    {
     "data": {
      "text/plain": [
       "DatasetDict({\n",
       "    train: Dataset({\n",
       "        features: ['text'],\n",
       "        num_rows: 19785\n",
       "    })\n",
       "    test: Dataset({\n",
       "        features: ['text'],\n",
       "        num_rows: 1974\n",
       "    })\n",
       "})"
      ]
     },
     "execution_count": 107,
     "metadata": {},
     "output_type": "execute_result"
    }
   ],
   "source": [
    "dataset = load_dataset(\"abobster/pushkin_new\")\n",
    "\n",
    "# Сохраняем в текстовый файл\n",
    "os.makedirs(\"data\", exist_ok=True)\n",
    "with open(\"data/pushkin.txt\", \"w\", encoding=\"utf-8\") as f:\n",
    "    f.write(\"\\n\".join(dataset[\"train\"][\"text\"]))\n",
    "\n",
    "dataset"
   ]
  },
  {
   "cell_type": "code",
   "execution_count": 108,
   "id": "7226ca2f",
   "metadata": {},
   "outputs": [
    {
     "data": {
      "text/plain": [
       "{'text': ['',\n",
       "  '',\n",
       "  'С позволения сказать,',\n",
       "  'Я сердит на вас ужасно,',\n",
       "  'Нет! — вы просите напрасно;',\n",
       "  'Не хочу пера марать;',\n",
       "  'Можно ль честному поэту',\n",
       "  'Ставить к каждому куплету:',\n",
       "  '«С позволения сказать»?',\n",
       "  'С позволения сказать,',\n",
       "  'Престарелые красотки,',\n",
       "  'Пересчитывая четки,',\n",
       "  'Станут взапуски кричать:',\n",
       "  '«Это что?» — Да это скверно!']}"
      ]
     },
     "execution_count": 108,
     "metadata": {},
     "output_type": "execute_result"
    }
   ],
   "source": [
    "dataset['test'][0:14]"
   ]
  },
  {
   "cell_type": "code",
   "execution_count": 109,
   "id": "c93b8951",
   "metadata": {},
   "outputs": [],
   "source": [
    "t_model_name = \"sberbank-ai/rugpt3small_based_on_gpt2\"\n",
    "tokenizer = AutoTokenizer.from_pretrained(t_model_name)\n",
    "tokenizer.pad_token = tokenizer.eos_token"
   ]
  },
  {
   "cell_type": "code",
   "execution_count": 110,
   "id": "1644e8c1",
   "metadata": {},
   "outputs": [],
   "source": [
    "class PushkinDataset(Dataset):\n",
    "    def __init__(self, texts, tokenizer, block_size=64):\n",
    "        self.examples = []\n",
    "        for text in texts:\n",
    "            tokens = tokenizer.encode(text, truncation=True, max_length=block_size)\n",
    "            if len(tokens) > 1:\n",
    "                self.examples.append(torch.tensor(tokens))\n",
    "\n",
    "    def __len__(self):\n",
    "        return len(self.examples)\n",
    "\n",
    "    def __getitem__(self, idx):\n",
    "        x = self.examples[idx][:-1]\n",
    "        y = self.examples[idx][1:]\n",
    "        return x, y\n",
    "\n",
    "train_dataset = PushkinDataset(dataset[\"train\"][\"text\"], tokenizer)\n",
    "\n",
    "collate_fn = lambda batch: (\n",
    "    nn.utils.rnn.pad_sequence([x for x, _ in batch], batch_first=True, padding_value=tokenizer.pad_token_id),\n",
    "    nn.utils.rnn.pad_sequence([y for _, y in batch], batch_first=True, padding_value=-100)\n",
    ")\n",
    "train_loader = DataLoader(train_dataset, batch_size=8, shuffle=True, collate_fn=collate_fn)\n"
   ]
  },
  {
   "cell_type": "code",
   "execution_count": 111,
   "id": "6ea07a07",
   "metadata": {},
   "outputs": [
    {
     "data": {
      "text/plain": [
       "TransformerLM(\n",
       "  (embedding): Embedding(50257, 128)\n",
       "  (layers): ModuleList(\n",
       "    (0-1): 2 x SimpleTransformerBlock(\n",
       "      (attn): MultiheadAttention(\n",
       "        (out_proj): NonDynamicallyQuantizableLinear(in_features=128, out_features=128, bias=True)\n",
       "      )\n",
       "      (ff): Sequential(\n",
       "        (0): Linear(in_features=128, out_features=256, bias=True)\n",
       "        (1): ReLU()\n",
       "        (2): Linear(in_features=256, out_features=128, bias=True)\n",
       "      )\n",
       "      (norm1): LayerNorm((128,), eps=1e-05, elementwise_affine=True)\n",
       "      (norm2): LayerNorm((128,), eps=1e-05, elementwise_affine=True)\n",
       "    )\n",
       "  )\n",
       "  (fc_out): Linear(in_features=128, out_features=50257, bias=True)\n",
       ")"
      ]
     },
     "execution_count": 111,
     "metadata": {},
     "output_type": "execute_result"
    }
   ],
   "source": [
    "# Своя простая модель трансформера с вниманием\n",
    "\n",
    "class SimpleTransformerBlock(nn.Module):\n",
    "    def __init__(self, d_model, nhead, dim_feedforward):\n",
    "        super().__init__()\n",
    "        self.attn = nn.MultiheadAttention(embed_dim=d_model, num_heads=nhead, batch_first=True)\n",
    "        self.ff = nn.Sequential(\n",
    "            nn.Linear(d_model, dim_feedforward),\n",
    "            nn.ReLU(),\n",
    "            nn.Linear(dim_feedforward, d_model)\n",
    "        )\n",
    "        self.norm1 = nn.LayerNorm(d_model)\n",
    "        self.norm2 = nn.LayerNorm(d_model)\n",
    "        self.attn_weights = None\n",
    "\n",
    "    def forward(self, x):\n",
    "        attn_output, attn_weights = self.attn(x, x, x, need_weights=True)\n",
    "        self.attn_weights = attn_weights\n",
    "        x = self.norm1(x + attn_output)\n",
    "        x = self.norm2(x + self.ff(x))\n",
    "        return x\n",
    "\n",
    "class TransformerLM(nn.Module):\n",
    "    def __init__(self, vocab_size, d_model=128, nhead=4, num_layers=2, dim_feedforward=256, max_len=512):\n",
    "        super().__init__()\n",
    "        self.embedding = nn.Embedding(vocab_size, d_model)\n",
    "        self.pos_embedding = nn.Parameter(torch.randn(1, max_len, d_model))\n",
    "        self.layers = nn.ModuleList([\n",
    "            SimpleTransformerBlock(d_model, nhead, dim_feedforward) for _ in range(num_layers)\n",
    "        ])\n",
    "        self.fc_out = nn.Linear(d_model, vocab_size)\n",
    "\n",
    "    def forward(self, x):\n",
    "        seq_len = x.size(1)\n",
    "        x = self.embedding(x) + self.pos_embedding[:, :seq_len, :]\n",
    "        for layer in self.layers:\n",
    "            x = layer(x)\n",
    "        return self.fc_out(x)\n",
    "\n",
    "    def get_attention(self, layer_idx):\n",
    "        return self.layers[layer_idx].attn_weights\n",
    "\n",
    "\n",
    "vocab_size = len(tokenizer)\n",
    "model = TransformerLM(vocab_size)\n",
    "device = torch.device(\"cuda\" if torch.cuda.is_available() else \"cpu\")\n",
    "model.to(device)"
   ]
  },
  {
   "cell_type": "code",
   "execution_count": 141,
   "id": "89a7f3a2",
   "metadata": {},
   "outputs": [
    {
     "name": "stdout",
     "output_type": "stream",
     "text": [
      "13.246545 M parameters\n"
     ]
    }
   ],
   "source": [
    "m = model.to(device)\n",
    "print(sum(p.numel() for p in m.parameters())/1e6, 'M parameters')"
   ]
  },
  {
   "cell_type": "code",
   "execution_count": null,
   "id": "578d7d36",
   "metadata": {},
   "outputs": [
    {
     "name": "stdout",
     "output_type": "stream",
     "text": [
      "Epoch 1: loss = 7.8121, accuracy = 0.1217\n",
      "Epoch 2: loss = 5.7100, accuracy = 0.2971\n",
      "Epoch 3: loss = 4.1392, accuracy = 0.4787\n",
      "Epoch 4: loss = 3.0288, accuracy = 0.6124\n",
      "Epoch 5: loss = 2.2667, accuracy = 0.7054\n",
      "Epoch 6: loss = 1.7317, accuracy = 0.7704\n",
      "Epoch 7: loss = 1.3522, accuracy = 0.8154\n",
      "Epoch 8: loss = 1.0819, accuracy = 0.8450\n",
      "Epoch 9: loss = 0.8806, accuracy = 0.8684\n",
      "Epoch 10: loss = 0.7318, accuracy = 0.8864\n"
     ]
    }
   ],
   "source": [
    "EPOCHS = 20\n",
    "\n",
    "loss_history = []\n",
    "accuracy_history = []\n",
    "\n",
    "optimizer = torch.optim.Adam(model.parameters(), lr=1e-4)\n",
    "criterion = nn.CrossEntropyLoss(ignore_index=-100)\n",
    "\n",
    "model.train()\n",
    "for epoch in range(EPOCHS):\n",
    "    total_loss = 0\n",
    "    total_correct = 0\n",
    "    total_tokens = 0\n",
    "\n",
    "    for x, y in train_loader:\n",
    "        x, y = x.to(device), y.to(device)\n",
    "        optimizer.zero_grad()\n",
    "        logits = model(x)\n",
    "        loss = criterion(logits.view(-1, vocab_size), y.view(-1))\n",
    "        loss.backward()\n",
    "        optimizer.step()\n",
    "        total_loss += loss.item()\n",
    "\n",
    "        preds = torch.argmax(logits, dim=-1)\n",
    "        mask = (y != -100)\n",
    "        correct = (preds == y) & mask\n",
    "        total_correct += correct.sum().item()\n",
    "        total_tokens += mask.sum().item()\n",
    "\n",
    "    avg_loss = total_loss / len(train_loader)\n",
    "    accuracy = total_correct / total_tokens\n",
    "    loss_history.append(avg_loss)\n",
    "    accuracy_history.append(accuracy)\n",
    "    print(f\"Epoch {epoch+1}: loss = {avg_loss:.4f}, accuracy = {accuracy:.4f}\")"
   ]
  },
  {
   "cell_type": "code",
   "execution_count": null,
   "id": "aad82cbb",
   "metadata": {},
   "outputs": [
    {
     "name": "stdout",
     "output_type": "stream",
     "text": [
      "Epoch 16: loss = 0.2830, accuracy = 0.9321\n",
      "Epoch 17: loss = 0.2486, accuracy = 0.9375\n",
      "Epoch 18: loss = 0.2153, accuracy = 0.9437\n",
      "Epoch 19: loss = 0.1874, accuracy = 0.9508\n",
      "Epoch 20: loss = 0.1626, accuracy = 0.9565\n"
     ]
    }
   ],
   "source": []
  },
  {
   "cell_type": "code",
   "execution_count": 128,
   "id": "3d4409c6",
   "metadata": {},
   "outputs": [
    {
     "data": {
      "image/png": "[encoded data removed]",
      "text/plain": [
       "<Figure size 1200x500 with 2 Axes>"
      ]
     },
     "metadata": {},
     "output_type": "display_data"
    }
   ],
   "source": [
    "plt.figure(figsize=(12, 5))\n",
    "\n",
    "plt.subplot(1, 2, 1)\n",
    "plt.plot(loss_history, marker='o')\n",
    "plt.title(\"Ошибка во время обучения\")\n",
    "plt.xlabel(\"Эпоха\")\n",
    "plt.ylabel(\"Loss\")\n",
    "\n",
    "plt.subplot(1, 2, 2)\n",
    "plt.plot(accuracy_history, marker='o', color='green')\n",
    "plt.title(\"Accuracy во время обучения\")\n",
    "plt.xlabel(\"Эпоха\")\n",
    "plt.ylabel(\"Accuracy\")\n",
    "\n",
    "plt.tight_layout()\n",
    "plt.show()"
   ]
  },
  {
   "cell_type": "code",
   "execution_count": 129,
   "id": "8623f222",
   "metadata": {},
   "outputs": [
    {
     "name": "stdout",
     "output_type": "stream",
     "text": [
      "\n",
      "Generated:\n",
      "\n",
      "Мой дядя самых честных правил,\n",
      "— он, — он он,\n",
      "— он: поражает., — он\n",
      "он дядя он поражает самоле,\n",
      "он поражает, он спал он.,\n",
      "он певец он дуракстить жены\n",
      "он поражает радость он поражает\n",
      "он пилитой он поражает он\n",
      "темно\n"
     ]
    }
   ],
   "source": [
    "# Генерация текста по первой строчке\n",
    "def generate(prompt, model, tokenizer, max_len=50):\n",
    "    model.eval()\n",
    "    tokens = tokenizer.encode(prompt, return_tensors=\"pt\").to(device)\n",
    "    with torch.no_grad():\n",
    "        for _ in range(max_len):\n",
    "            logits = model(tokens)\n",
    "            next_token_logits = logits[:, -1, :]\n",
    "            next_token = torch.argmax(next_token_logits, dim=-1).unsqueeze(0)\n",
    "            tokens = torch.cat([tokens, next_token], dim=1)\n",
    "    return tokenizer.decode(tokens[0], skip_special_tokens=True)\n",
    "\n",
    "PROMT = \"Мой дядя самых честных правил,\"\n",
    "generate_text = generate(PROMT, model, tokenizer)\n",
    "\n",
    "def print_generated_text(text, words_per_line=5):\n",
    "    words = text.split()\n",
    "    for i in range(0, len(words), words_per_line):\n",
    "        print(\" \".join(words[i:i + words_per_line]))\n",
    "\n",
    "print(\"\\nGenerated:\\n\")\n",
    "print_generated_text(generate_text, words_per_line=5)"
   ]
  },
  {
   "cell_type": "code",
   "execution_count": 192,
   "id": "08e3eebe",
   "metadata": {},
   "outputs": [
    {
     "data": {
      "image/png": "[encoded data removed]",
      "text/plain": [
       "<Figure size 600x500 with 2 Axes>"
      ]
     },
     "metadata": {},
     "output_type": "display_data"
    }
   ],
   "source": [
    "# Визуализация внимания\n",
    "sample_input = tokenizer(PROMT, return_tensors=\"pt\")[\"input_ids\"].to(device)\n",
    "model(sample_input)\n",
    "attn_weights = model.get_attention(0)[0].detach().cpu().numpy()\n",
    "tokens = tokenizer.convert_ids_to_tokens(sample_input[0])\n",
    "tokens_readable = []\n",
    "for i in range(len(tokens)):\n",
    "    tokens_readable.append(tokenizer.convert_tokens_to_string(tokens[i:i+1]))\n",
    "\n",
    "plt.figure(figsize=(6, 5))\n",
    "sns.heatmap(attn_weights, xticklabels=tokens_readable, yticklabels=tokens_readable, cmap=\"viridis\")\n",
    "plt.title(\"Attention Map\")\n",
    "plt.xticks(rotation=45)\n",
    "plt.yticks(rotation=0)\n",
    "plt.tight_layout()\n",
    "plt.show()"
   ]
  },
  {
   "cell_type": "markdown",
   "id": "c692d001",
   "metadata": {},
   "source": [
    "Выводы:\n",
    "- Модель обучается с нуля и пытается генерировать текст в стиле оригинала.\n",
    "- Диагональные полосы: это означает, что головы в основном \"смотрят\" на один соседний токен.\n",
    "- Последние токены получают больше всего внимания от других, особенно в финальных позициях."
   ]
  }
 ],
 "metadata": {
  "kernelspec": {
   "display_name": "venv",
   "language": "python",
   "name": "python3"
  },
  "language_info": {
   "codemirror_mode": {
    "name": "ipython",
    "version": 3
   },
   "file_extension": ".py",
   "mimetype": "text/x-python",
   "name": "python",
   "nbconvert_exporter": "python",
   "pygments_lexer": "ipython3",
   "version": "3.13.3"
  }
 },
 "nbformat": 4,
 "nbformat_minor": 5
}
