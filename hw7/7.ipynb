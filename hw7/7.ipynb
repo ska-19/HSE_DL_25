{
 "cells": [
  {
   "cell_type": "markdown",
   "id": "9915023e",
   "metadata": {},
   "source": [
    "# Обучение мультимодальной модель (Image -> Text)"
   ]
  },
  {
   "cell_type": "code",
   "execution_count": 1,
   "id": "84362186",
   "metadata": {},
   "outputs": [
    {
     "name": "stdout",
     "output_type": "stream",
     "text": [
      "Python 3.13.3\n",
      "Using device: cpu\n"
     ]
    }
   ],
   "source": [
    "!python -V\n",
    "\n",
    "import io\n",
    "import numpy as np\n",
    "import torch\n",
    "import torch.nn as nn\n",
    "import torch.optim as optim\n",
    "from torch.utils.data import Dataset, DataLoader, random_split\n",
    "from torchvision import transforms\n",
    "from PIL import Image\n",
    "from datasets import load_dataset\n",
    "\n",
    "import warnings\n",
    "for warn in [UserWarning, FutureWarning]: warnings.filterwarnings(\"ignore\", category = warn)\n",
    "\n",
    "device = torch.device('cuda' if torch.cuda.is_available() else 'cpu')\n",
    "print(f\"Using device: {device}\")"
   ]
  },
  {
   "cell_type": "code",
   "execution_count": 2,
   "id": "50b7c9ea",
   "metadata": {},
   "outputs": [],
   "source": [
    "class LogoDataset(Dataset):\n",
    "    def __init__(self, dataset, transform=None):\n",
    "        self.dataset = dataset\n",
    "        self.transform = transform\n",
    "        self.vocab = self._build_vocab()\n",
    "\n",
    "    def _build_vocab(self):\n",
    "        vocab = {\"<PAD>\": 0, \"<SOS>\": 1, \"<EOS>\": 2, \"<UNK>\": 3}\n",
    "        for item in self.dataset:\n",
    "            tokens = self._tokenize_text(item[\"text\"])\n",
    "            for token in tokens:\n",
    "                if token not in vocab:\n",
    "                    vocab[token] = len(vocab)\n",
    "        return vocab\n",
    "\n",
    "    def _tokenize_text(self, text):\n",
    "        return text.lower().split()\n",
    "\n",
    "    def __len__(self):\n",
    "        return len(self.dataset)\n",
    "\n",
    "    def __getitem__(self, idx):\n",
    "        item = self.dataset[idx]\n",
    "\n",
    "        if isinstance(item[\"image\"], bytes):\n",
    "            image = Image.open(io.BytesIO(item[\"image\"])).convert(\"RGB\")\n",
    "        elif isinstance(item[\"image\"], str):\n",
    "            image = Image.open(item[\"image\"]).convert(\"RGB\")\n",
    "        else:\n",
    "            image = item[\"image\"]  # Если уже PIL.Image\n",
    "\n",
    "        if self.transform:\n",
    "            image = self.transform(image)\n",
    "\n",
    "        text = item[\"text\"]\n",
    "        tokens = [self.vocab[\"<SOS>\"]] + \\\n",
    "                [self.vocab.get(t, self.vocab[\"<UNK>\"]) for t in self._tokenize_text(text)] + \\\n",
    "                [self.vocab[\"<EOS>\"]]\n",
    "\n",
    "        return image, torch.tensor(tokens)\n",
    "\n",
    "transform = transforms.Compose([\n",
    "    transforms.Resize((224, 224)),\n",
    "    transforms.ToTensor(),\n",
    "    transforms.Normalize(mean=[0.485, 0.456, 0.406], std=[0.229, 0.224, 0.225]),\n",
    "])\n",
    "\n",
    "def collate_fn(batch):\n",
    "    images = [item[0] for item in batch]\n",
    "    captions = [item[1] for item in batch]\n",
    "\n",
    "    images = torch.stack(images, dim=0)\n",
    "\n",
    "    max_len = max(len(cap) for cap in captions)\n",
    "    padded_captions = torch.zeros(len(captions), max_len, dtype=torch.long)\n",
    "    for i, cap in enumerate(captions):\n",
    "        padded_captions[i, :len(cap)] = cap\n",
    "\n",
    "    return images, padded_captions\n"
   ]
  },
  {
   "cell_type": "code",
   "execution_count": 3,
   "id": "18a615fe",
   "metadata": {},
   "outputs": [
    {
     "name": "stdout",
     "output_type": "stream",
     "text": [
      "Dataset({\n",
      "    features: ['image', 'text'],\n",
      "    num_rows: 1000\n",
      "})\n"
     ]
    }
   ],
   "source": [
    "dataset = load_dataset(\"mirandal/image_descriptions_cleaned\", split=\"train\")\n",
    "full_dataset = LogoDataset(dataset, transform=transform)\n",
    "\n",
    "print(dataset)"
   ]
  },
  {
   "cell_type": "code",
   "execution_count": 4,
   "id": "cc6681b1",
   "metadata": {},
   "outputs": [],
   "source": [
    "BATCH_SIZE = 32\n",
    "\n",
    "train_size = int(0.8 * len(full_dataset))\n",
    "val_size = len(full_dataset) - train_size\n",
    "train_dataset, val_dataset = random_split(full_dataset, [train_size, val_size])\n",
    "\n",
    "train_loader = DataLoader(\n",
    "    train_dataset,\n",
    "    batch_size=BATCH_SIZE,\n",
    "    shuffle=True,\n",
    "    collate_fn=collate_fn\n",
    ")\n",
    "val_loader = DataLoader(\n",
    "    val_dataset,\n",
    "    batch_size=BATCH_SIZE,\n",
    "    collate_fn=collate_fn\n",
    ")"
   ]
  },
  {
   "cell_type": "code",
   "execution_count": 5,
   "id": "4b3db9fb",
   "metadata": {},
   "outputs": [],
   "source": [
    "LR = 1e-3\n",
    "EMBEDDING_DIM = 256\n",
    "HIDDEN_DIM = 512\n",
    "\n",
    "class EncoderCNN(nn.Module):\n",
    "    def __init__(self):\n",
    "        super().__init__()\n",
    "        self.cnn = nn.Sequential(\n",
    "            nn.Conv2d(3, 64, 3, padding=1), nn.ReLU(), nn.MaxPool2d(2),\n",
    "            nn.Conv2d(64, 128, 3, padding=1), nn.ReLU(), nn.MaxPool2d(2),\n",
    "            nn.Conv2d(128, 256, 3, padding=1), nn.ReLU(), nn.MaxPool2d(2),\n",
    "            nn.AdaptiveAvgPool2d((1, 1)))\n",
    "\n",
    "    def forward(self, x):\n",
    "        return self.cnn(x).squeeze(-1).squeeze(-1)  # [batch, 256]\n",
    "\n",
    "class DecoderRNN(nn.Module):\n",
    "    def __init__(self, vocab_size, hidden_size, embedding_dim):\n",
    "        super().__init__()\n",
    "        self.embedding = nn.Embedding(vocab_size, embedding_dim)\n",
    "        self.lstm = nn.LSTM(embedding_dim, hidden_size, batch_first=True)\n",
    "        self.fc = nn.Linear(hidden_size, vocab_size)\n",
    "\n",
    "    def forward(self, x, hidden=None):\n",
    "        # x: [batch, seq_len]\n",
    "        embedded = self.embedding(x)  # [batch, seq_len, embedding_dim]\n",
    "\n",
    "        if hidden is None:\n",
    "            batch_size = x.size(0)\n",
    "            h0 = torch.zeros(1, batch_size, self.lstm.hidden_size).to(x.device)\n",
    "            c0 = torch.zeros(1, batch_size, self.lstm.hidden_size).to(x.device)\n",
    "            hidden = (h0, c0)\n",
    "\n",
    "        output, hidden = self.lstm(embedded, hidden)  # output: [batch, seq_len, hidden_size]\n",
    "        output = self.fc(output)  # [batch, seq_len, vocab_size]\n",
    "        return output, hidden\n",
    "\n",
    "class ImageCaptionModel(nn.Module):\n",
    "    def __init__(self, vocab_size):\n",
    "        super().__init__()\n",
    "        self.encoder = EncoderCNN()\n",
    "        self.decoder = DecoderRNN(vocab_size, HIDDEN_DIM, EMBEDDING_DIM)\n",
    "\n",
    "    def forward(self, images, captions):\n",
    "        \"\"\"\n",
    "        images: [batch, 3, 224, 224]\n",
    "        captions: [batch, max_len]\n",
    "        \"\"\"\n",
    "        features = self.encoder(images)  # [batch, 256]\n",
    "        features = features.unsqueeze(1)  # [batch, 1, 256]\n",
    "        outputs, _ = self.decoder(captions[:, :-1])  # outputs: [batch, seq_len-1, vocab_size]\n",
    "        return outputs\n",
    "\n",
    "model = ImageCaptionModel(vocab_size=len(full_dataset.vocab)).to(device)\n",
    "optimizer = optim.Adam(model.parameters(), lr=LR)\n",
    "criterion = nn.CrossEntropyLoss(ignore_index=0)\n"
   ]
  },
  {
   "cell_type": "code",
   "execution_count": 6,
   "id": "02aa371f",
   "metadata": {},
   "outputs": [
    {
     "name": "stdout",
     "output_type": "stream",
     "text": [
      "Epoch 1, Loss: 6.4933\n",
      "Epoch 2, Loss: 5.1822\n",
      "Epoch 3, Loss: 4.7457\n",
      "Epoch 4, Loss: 4.4049\n",
      "Epoch 5, Loss: 4.1224\n",
      "Epoch 6, Loss: 3.8853\n",
      "Epoch 7, Loss: 3.6724\n",
      "Epoch 8, Loss: 3.4795\n",
      "Epoch 9, Loss: 3.2974\n",
      "Epoch 10, Loss: 3.1284\n",
      "Epoch 11, Loss: 2.9698\n",
      "Epoch 12, Loss: 2.8177\n",
      "Epoch 13, Loss: 2.6759\n",
      "Epoch 14, Loss: 2.5340\n",
      "Epoch 15, Loss: 2.3957\n",
      "Epoch 16, Loss: 2.2671\n",
      "Epoch 17, Loss: 2.1433\n",
      "Epoch 18, Loss: 2.0243\n",
      "Epoch 19, Loss: 1.9155\n",
      "Epoch 20, Loss: 1.8049\n",
      "Epoch 21, Loss: 1.7039\n",
      "Epoch 22, Loss: 1.6106\n",
      "Epoch 23, Loss: 1.5285\n",
      "Epoch 24, Loss: 1.4444\n",
      "Epoch 25, Loss: 1.3622\n",
      "Epoch 26, Loss: 1.2822\n",
      "Epoch 27, Loss: 1.2067\n",
      "Epoch 28, Loss: 1.1381\n",
      "Epoch 29, Loss: 1.0758\n",
      "Epoch 30, Loss: 1.0130\n",
      "Epoch 31, Loss: 0.9535\n",
      "Epoch 32, Loss: 0.8985\n",
      "Epoch 33, Loss: 0.8494\n",
      "Epoch 34, Loss: 0.8015\n",
      "Epoch 35, Loss: 0.7575\n",
      "Epoch 36, Loss: 0.7155\n",
      "Epoch 37, Loss: 0.6744\n",
      "Epoch 38, Loss: 0.6358\n",
      "Epoch 39, Loss: 0.5987\n",
      "Epoch 40, Loss: 0.5651\n",
      "Epoch 41, Loss: 0.5348\n",
      "Epoch 42, Loss: 0.5070\n",
      "Epoch 43, Loss: 0.4799\n",
      "Epoch 44, Loss: 0.4546\n",
      "Epoch 45, Loss: 0.4355\n",
      "Epoch 46, Loss: 0.4163\n",
      "Epoch 47, Loss: 0.3972\n",
      "Epoch 48, Loss: 0.3796\n",
      "Epoch 49, Loss: 0.3617\n",
      "Epoch 50, Loss: 0.3468\n"
     ]
    }
   ],
   "source": [
    "EPOCHS = 50\n",
    "\n",
    "for epoch in range(EPOCHS):\n",
    "    model.train()\n",
    "    total_loss = 0\n",
    "    for images, captions in train_loader:\n",
    "        images, captions = images.to(device), captions.to(device)\n",
    "\n",
    "        optimizer.zero_grad()\n",
    "        outputs = model(images, captions)\n",
    "\n",
    "        loss = criterion(\n",
    "            outputs.view(-1, outputs.size(-1)),\n",
    "            captions[:, 1:].reshape(-1)\n",
    "        )\n",
    "\n",
    "        loss.backward()\n",
    "        optimizer.step()\n",
    "        total_loss += loss.item()\n",
    "\n",
    "    print(f\"Epoch {epoch+1}, Loss: {total_loss/len(train_loader):.4f}\")\n"
   ]
  },
  {
   "cell_type": "code",
   "execution_count": 7,
   "id": "78b68ce5",
   "metadata": {},
   "outputs": [],
   "source": [
    "def generate_caption(model, image, vocab, max_length=20):\n",
    "    model.eval()\n",
    "    if isinstance(image, str):\n",
    "        image = Image.open(image).convert(\"RGB\")\n",
    "    image = transform(image).unsqueeze(0).to(device)\n",
    "\n",
    "    features = model.encoder(image)\n",
    "    features = features.unsqueeze(1)\n",
    "    hidden = None\n",
    "\n",
    "    input_word = torch.tensor([vocab[\"<SOS>\"]]).to(device)\n",
    "    caption = []\n",
    "\n",
    "    for _ in range(max_length):\n",
    "        output, hidden = model.decoder(input_word.unsqueeze(0), hidden)\n",
    "        predicted_word = output.argmax(-1).item()\n",
    "\n",
    "        if predicted_word == vocab[\"<EOS>\"]:\n",
    "            break\n",
    "\n",
    "        caption.append(predicted_word)\n",
    "        input_word = torch.tensor([predicted_word]).to(device)\n",
    "\n",
    "    idx_to_word = {v: k for k, v in vocab.items()}\n",
    "    return \" \".join([idx_to_word.get(idx, \"<UNK>\") for idx in caption])"
   ]
  },
  {
   "cell_type": "code",
   "execution_count": 8,
   "id": "82f4d67c",
   "metadata": {},
   "outputs": [
    {
     "data": {
      "image/png": "[encoded data removed]",
      "text/plain": [
       "<IPython.core.display.Image object>"
      ]
     },
     "metadata": {
      "image/png": {
       "width": 300
      }
     },
     "output_type": "display_data"
    },
    {
     "name": "stdout",
     "output_type": "stream",
     "text": [
      "the logo features a stylized letter 'g' in black set against a white background within a square border. the design\n"
     ]
    }
   ],
   "source": [
    "from IPython.display import display, Image as IPImage\n",
    "\n",
    "test_image_path = \"test_logo.png\"\n",
    "display(IPImage(filename=test_image_path, width=300))\n",
    "print(generate_caption(model, test_image_path, full_dataset.vocab))"
   ]
  },
  {
   "cell_type": "markdown",
   "id": "3fe44a92",
   "metadata": {},
   "source": [
    "Выводы:\n",
    "- Модель обучается и генерирует текст учитывая изоброжение логотипа, но хорошо бы обучить её на большем количестве изображений логотипов дав больше времени на обучение и вариации изображений.\n",
    "- Видно упоминание ключевых слов, связанных с логотипами. "
   ]
  }
 ],
 "metadata": {
  "kernelspec": {
   "display_name": "venv",
   "language": "python",
   "name": "python3"
  },
  "language_info": {
   "codemirror_mode": {
    "name": "ipython",
    "version": 3
   },
   "file_extension": ".py",
   "mimetype": "text/x-python",
   "name": "python",
   "nbconvert_exporter": "python",
   "pygments_lexer": "ipython3",
   "version": "3.13.3"
  }
 },
 "nbformat": 4,
 "nbformat_minor": 5
}
