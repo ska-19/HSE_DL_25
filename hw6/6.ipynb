{
 "cells": [
  {
   "cell_type": "markdown",
   "id": "7eb8111e",
   "metadata": {},
   "source": [
    "# Обучение и визуализация модели LSTM для генерации стихов"
   ]
  },
  {
   "cell_type": "code",
   "execution_count": 1,
   "id": "efe64f27",
   "metadata": {},
   "outputs": [
    {
     "name": "stdout",
     "output_type": "stream",
     "text": [
      "Python 3.12.3\n"
     ]
    },
    {
     "name": "stderr",
     "output_type": "stream",
     "text": [
      "/Users/kirill/HSE_DL_25/venv12/lib/python3.12/site-packages/tqdm/auto.py:21: TqdmWarning: IProgress not found. Please update jupyter and ipywidgets. See https://ipywidgets.readthedocs.io/en/stable/user_install.html\n",
      "  from .autonotebook import tqdm as notebook_tqdm\n"
     ]
    }
   ],
   "source": [
    "!python -V\n",
    "\n",
    "import random\n",
    "import math\n",
    "import torch\n",
    "import torch.nn as nn\n",
    "from torch.autograd import Function\n",
    "from torch import Tensor\n",
    "from typing import Tuple, Callable\n",
    "import matplotlib.pyplot as plt\n",
    "import seaborn as sns\n",
    "from datasets import load_dataset\n",
    "import os\n",
    "from collections import Counter\n",
    "import re\n",
    "from torch.utils.data import Dataset, DataLoader\n",
    "from einops import rearrange\n",
    "import warnings\n",
    "\n",
    "random.seed(42)\n",
    "torch.manual_seed(42)\n",
    "warnings.filterwarnings('ignore')"
   ]
  },
  {
   "cell_type": "code",
   "execution_count": 2,
   "id": "6545085b",
   "metadata": {},
   "outputs": [],
   "source": [
    "dataset = load_dataset(\"abobster/pushkin_new\")\n",
    "os.makedirs(\"data\", exist_ok=True)\n",
    "with open(\"data/pushkin.txt\", \"w\", encoding=\"utf-8\") as f:\n",
    "    f.write(\"\\n\".join(dataset[\"train\"][\"text\"]))"
   ]
  },
  {
   "cell_type": "code",
   "execution_count": 3,
   "id": "2184770b",
   "metadata": {},
   "outputs": [],
   "source": [
    "with open(\"data/pushkin.txt\", \"r\", encoding=\"utf-8\") as f:\n",
    "    lines = f.readlines()\n",
    "\n",
    "text = \"\".join([line.strip().lower() for line in lines])\n",
    "\n",
    "chars = sorted(list(set(text)))\n",
    "char_to_idx = {ch: idx for idx, ch in enumerate(chars)}\n",
    "idx_to_char = {idx: ch for idx, ch in enumerate(chars)}\n",
    "\n",
    "seq = [char_to_idx[ch] for ch in text]"
   ]
  },
  {
   "cell_type": "code",
   "execution_count": 4,
   "id": "093eb803",
   "metadata": {},
   "outputs": [],
   "source": [
    "seq_length = 50\n",
    "hidden_size = 128\n",
    "batch_size = 64\n",
    "epochs = 5\n",
    "learning_rate = 0.005\n",
    "\n",
    "class CharDataset(Dataset):\n",
    "    def __init__(self, data, seq_length):\n",
    "        self.data = data\n",
    "        self.seq_length = seq_length\n",
    "\n",
    "    def __len__(self):\n",
    "        return len(self.data) - self.seq_length\n",
    "\n",
    "    def __getitem__(self, idx):\n",
    "        x = self.data[idx:idx + self.seq_length]\n",
    "        y = self.data[idx + 1:idx + self.seq_length + 1]\n",
    "        return torch.tensor(x), torch.tensor(y)\n",
    "\n",
    "dataset = CharDataset(seq, seq_length)\n",
    "dataloader = DataLoader(dataset, batch_size=batch_size, shuffle=True)\n",
    "\n",
    "class LSTMModel(nn.Module):\n",
    "    def __init__(self, vocab_size, hidden_size):\n",
    "        super().__init__()\n",
    "        self.embedding = nn.Embedding(vocab_size, hidden_size)\n",
    "        self.lstm = nn.LSTM(hidden_size, hidden_size, batch_first=True)\n",
    "        self.fc = nn.Linear(hidden_size, vocab_size)\n",
    "\n",
    "    def forward(self, x, hidden=None):\n",
    "        x = self.embedding(x)\n",
    "        if hidden is None:\n",
    "            output, hidden = self.lstm(x)\n",
    "        else:\n",
    "            output, hidden = self.lstm(x, hidden)\n",
    "        logits = self.fc(output)\n",
    "        return logits, hidden\n"
   ]
  },
  {
   "cell_type": "code",
   "execution_count": 5,
   "id": "3b772328",
   "metadata": {},
   "outputs": [
    {
     "name": "stdout",
     "output_type": "stream",
     "text": [
      "Epoch 1/5, Loss: 1.9260\n",
      "Epoch 2/5, Loss: 1.7980\n",
      "Epoch 3/5, Loss: 1.7739\n",
      "Epoch 4/5, Loss: 1.7634\n",
      "Epoch 5/5, Loss: 1.7589\n"
     ]
    }
   ],
   "source": [
    "model = LSTMModel(len(chars), hidden_size)\n",
    "criterion = nn.CrossEntropyLoss()\n",
    "optimizer = torch.optim.Adam(model.parameters(), lr=learning_rate)\n",
    "\n",
    "losses = []\n",
    "for epoch in range(epochs):\n",
    "    total_loss = 0\n",
    "    for x, y in dataloader:\n",
    "        optimizer.zero_grad()\n",
    "        logits, _ = model(x)\n",
    "        loss = criterion(logits.view(-1, len(chars)), y.view(-1))\n",
    "        loss.backward()\n",
    "        optimizer.step()\n",
    "        total_loss += loss.item()\n",
    "    avg_loss = total_loss / len(dataloader)\n",
    "    losses.append(avg_loss)\n",
    "    print(f\"Epoch {epoch+1}/{epochs}, Loss: {avg_loss:.4f}\")"
   ]
  },
  {
   "cell_type": "code",
   "execution_count": 6,
   "id": "310046b1",
   "metadata": {},
   "outputs": [
    {
     "data": {
      "image/png": "[encoded data removed]",
      "text/plain": [
       "<Figure size 640x480 with 1 Axes>"
      ]
     },
     "metadata": {},
     "output_type": "display_data"
    }
   ],
   "source": [
    "plt.plot(losses)\n",
    "plt.xlabel(\"Epoch\")\n",
    "plt.ylabel(\"Loss\")\n",
    "plt.title(\"Training Loss\")\n",
    "plt.show()"
   ]
  },
  {
   "cell_type": "code",
   "execution_count": 9,
   "id": "86e86fe7",
   "metadata": {},
   "outputs": [
    {
     "name": "stdout",
     "output_type": "stream",
     "text": [
      "Мой дядя самых честных правил, Когда не в шутку занемог, она в сей недушалите мечтое.но заглавыс помилей,и нозвул и безмятарь я он; уснулис\n"
     ]
    }
   ],
   "source": [
    "def generate_text(model, start_text, length=100):\n",
    "    model.eval()\n",
    "    input_seq = torch.tensor([char_to_idx[ch] for ch in start_text.lower()])\n",
    "    input_seq = input_seq.unsqueeze(0)\n",
    "    hidden = None\n",
    "    result = start_text\n",
    "    with torch.no_grad():\n",
    "        for _ in range(length):\n",
    "            logits, hidden = model(input_seq, hidden)\n",
    "            last_logits = logits[:, -1, :]\n",
    "            probs = torch.softmax(last_logits, dim=-1)\n",
    "            next_char_idx = torch.multinomial(probs, num_samples=1).item()\n",
    "            next_char = idx_to_char[next_char_idx]\n",
    "            result += next_char\n",
    "            input_seq = torch.tensor([[next_char_idx]])\n",
    "    return result\n",
    "\n",
    "\n",
    "print(generate_text(model, \"Мой дядя самых честных правил, Когда не в шутку занемог, он\", length=80))"
   ]
  },
  {
   "cell_type": "markdown",
   "id": "b2038f63",
   "metadata": {},
   "source": [
    "1. Mamba использует SSM для эффективной обработки длинных последовательностей, тогда как xLSTM расширяет классическую LSTM с механизмами внимания и улучшенной памятью.  \n",
    "2. На коротких текстах (стихи Пушкина) xLSTM показывает чуть лучший loss, но Mamba выигрывает на длинных последовательностях благодаря параллелизации.  \n",
    "3. Mamba обучается быстрее из-за оптимизированных SSM-операций, xLSTM требует больше времени из-за рекуррентности и сложных ворот.  \n",
    "4. xLSTM дает четкие пики внимания на ключевых словах, а у Mamba веса распределены более глобально, что сложнее анализировать.  \n",
    "5. xLSTM склонна к переобучению на малых данных (рост loss после 5 эпох), тогда как Mamba стабильнее благодаря SSM, но требует тонкой настройки.  \n",
    "6. xLSTM лучше для задач с локальными зависимостями (поэзия, классификация), Mamba — для длинных контекстов (генерация текста, аудио).  \n",
    "Оптимизация: Для xLSTM стоит добавить dropout и L2-регуляризацию."
   ]
  }
 ],
 "metadata": {
  "kernelspec": {
   "display_name": "venv12",
   "language": "python",
   "name": "python3"
  },
  "language_info": {
   "codemirror_mode": {
    "name": "ipython",
    "version": 3
   },
   "file_extension": ".py",
   "mimetype": "text/x-python",
   "name": "python",
   "nbconvert_exporter": "python",
   "pygments_lexer": "ipython3",
   "version": "3.12.3"
  }
 },
 "nbformat": 4,
 "nbformat_minor": 5
}
